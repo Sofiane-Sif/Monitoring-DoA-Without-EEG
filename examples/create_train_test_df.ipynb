{
 "cells": [
  {
   "cell_type": "markdown",
   "metadata": {},
   "source": [
    "#### This notebook shows how to create a train, test split by concatenating several surgeries in order to train a regression model"
   ]
  },
  {
   "cell_type": "code",
   "execution_count": 1,
   "metadata": {},
   "outputs": [],
   "source": [
    "import numpy as np\n",
    "import pandas as pd\n",
    "import matplotlib.pyplot as plt\n",
    "\n",
    "from pathlib import Path\n",
    "from sklearn.model_selection import train_test_split\n",
    "\n",
    "from doa_zero_eeg.utils import utils"
   ]
  },
  {
   "cell_type": "markdown",
   "metadata": {},
   "source": [
    "## 1 - Load the data and split for training and testing based on paths"
   ]
  },
  {
   "cell_type": "code",
   "execution_count": 2,
   "metadata": {},
   "outputs": [],
   "source": [
    "data_path = utils.FILTERED_DATA_DIR.rglob('*.parquet') # path of the filtered dataset (containing only one surgery per file, restricted to time window for which we have enough BIS values)\n",
    "\n",
    "file_paths = [p for p in data_path]\n",
    "\n",
    "# 80 surgeries recording for training, 20 for testing\n",
    "utils.set_seed(42) # always use seed 42 for reproducibility\n",
    "path_train, path_test = train_test_split(file_paths, test_size=0.2, random_state=42)"
   ]
  },
  {
   "cell_type": "markdown",
   "metadata": {},
   "source": [
    "## 2 - Concatenate all surgeries for train and test set"
   ]
  },
  {
   "cell_type": "code",
   "execution_count": 3,
   "metadata": {},
   "outputs": [
    {
     "data": {
      "text/html": [
       "<div>\n",
       "<style scoped>\n",
       "    .dataframe tbody tr th:only-of-type {\n",
       "        vertical-align: middle;\n",
       "    }\n",
       "\n",
       "    .dataframe tbody tr th {\n",
       "        vertical-align: top;\n",
       "    }\n",
       "\n",
       "    .dataframe thead th {\n",
       "        text-align: right;\n",
       "    }\n",
       "</style>\n",
       "<table border=\"1\" class=\"dataframe\">\n",
       "  <thead>\n",
       "    <tr style=\"text-align: right;\">\n",
       "      <th>SubLabel</th>\n",
       "      <th>BIS</th>\n",
       "      <th>CO₂fe</th>\n",
       "      <th>FC</th>\n",
       "      <th>PNIm</th>\n",
       "      <th>SpO₂</th>\n",
       "      <th>rec_id</th>\n",
       "      <th>scope_session</th>\n",
       "    </tr>\n",
       "    <tr>\n",
       "      <th>TimeStamp</th>\n",
       "      <th></th>\n",
       "      <th></th>\n",
       "      <th></th>\n",
       "      <th></th>\n",
       "      <th></th>\n",
       "      <th></th>\n",
       "      <th></th>\n",
       "    </tr>\n",
       "  </thead>\n",
       "  <tbody>\n",
       "    <tr>\n",
       "      <th>2022-03-11 13:15:01.917000+00:00</th>\n",
       "      <td>54.0</td>\n",
       "      <td>24.0</td>\n",
       "      <td>80.0</td>\n",
       "      <td>84.0</td>\n",
       "      <td>98.699997</td>\n",
       "      <td>0</td>\n",
       "      <td>cd377160-f477-4f4e-963f-3b6441fa6a8a.parquet</td>\n",
       "    </tr>\n",
       "    <tr>\n",
       "      <th>2022-03-11 13:15:02.941000+00:00</th>\n",
       "      <td>54.0</td>\n",
       "      <td>21.0</td>\n",
       "      <td>81.0</td>\n",
       "      <td>84.0</td>\n",
       "      <td>98.599998</td>\n",
       "      <td>0</td>\n",
       "      <td>cd377160-f477-4f4e-963f-3b6441fa6a8a.parquet</td>\n",
       "    </tr>\n",
       "    <tr>\n",
       "      <th>2022-03-11 13:15:03.965000+00:00</th>\n",
       "      <td>56.0</td>\n",
       "      <td>21.0</td>\n",
       "      <td>81.0</td>\n",
       "      <td>84.0</td>\n",
       "      <td>98.599998</td>\n",
       "      <td>0</td>\n",
       "      <td>cd377160-f477-4f4e-963f-3b6441fa6a8a.parquet</td>\n",
       "    </tr>\n",
       "    <tr>\n",
       "      <th>2022-03-11 13:15:04.989000+00:00</th>\n",
       "      <td>56.0</td>\n",
       "      <td>21.0</td>\n",
       "      <td>81.0</td>\n",
       "      <td>84.0</td>\n",
       "      <td>98.599998</td>\n",
       "      <td>0</td>\n",
       "      <td>cd377160-f477-4f4e-963f-3b6441fa6a8a.parquet</td>\n",
       "    </tr>\n",
       "    <tr>\n",
       "      <th>2022-03-11 13:15:06.013000+00:00</th>\n",
       "      <td>56.0</td>\n",
       "      <td>21.0</td>\n",
       "      <td>81.0</td>\n",
       "      <td>84.0</td>\n",
       "      <td>98.500000</td>\n",
       "      <td>0</td>\n",
       "      <td>cd377160-f477-4f4e-963f-3b6441fa6a8a.parquet</td>\n",
       "    </tr>\n",
       "    <tr>\n",
       "      <th>...</th>\n",
       "      <td>...</td>\n",
       "      <td>...</td>\n",
       "      <td>...</td>\n",
       "      <td>...</td>\n",
       "      <td>...</td>\n",
       "      <td>...</td>\n",
       "      <td>...</td>\n",
       "    </tr>\n",
       "    <tr>\n",
       "      <th>2022-11-01 06:59:55.442000+00:00</th>\n",
       "      <td>40.0</td>\n",
       "      <td>34.0</td>\n",
       "      <td>46.0</td>\n",
       "      <td>63.0</td>\n",
       "      <td>97.199997</td>\n",
       "      <td>79</td>\n",
       "      <td>80b98665-5fe0-462c-a6cd-c9b9943abc37.parquet</td>\n",
       "    </tr>\n",
       "    <tr>\n",
       "      <th>2022-11-01 06:59:56.466000+00:00</th>\n",
       "      <td>42.0</td>\n",
       "      <td>34.0</td>\n",
       "      <td>47.0</td>\n",
       "      <td>63.0</td>\n",
       "      <td>97.199997</td>\n",
       "      <td>79</td>\n",
       "      <td>80b98665-5fe0-462c-a6cd-c9b9943abc37.parquet</td>\n",
       "    </tr>\n",
       "    <tr>\n",
       "      <th>2022-11-01 06:59:57.490000+00:00</th>\n",
       "      <td>42.0</td>\n",
       "      <td>34.0</td>\n",
       "      <td>48.0</td>\n",
       "      <td>63.0</td>\n",
       "      <td>97.199997</td>\n",
       "      <td>79</td>\n",
       "      <td>80b98665-5fe0-462c-a6cd-c9b9943abc37.parquet</td>\n",
       "    </tr>\n",
       "    <tr>\n",
       "      <th>2022-11-01 06:59:58.514000+00:00</th>\n",
       "      <td>43.0</td>\n",
       "      <td>34.0</td>\n",
       "      <td>48.0</td>\n",
       "      <td>63.0</td>\n",
       "      <td>97.199997</td>\n",
       "      <td>79</td>\n",
       "      <td>80b98665-5fe0-462c-a6cd-c9b9943abc37.parquet</td>\n",
       "    </tr>\n",
       "    <tr>\n",
       "      <th>2022-11-01 06:59:59.538000+00:00</th>\n",
       "      <td>41.0</td>\n",
       "      <td>34.0</td>\n",
       "      <td>48.0</td>\n",
       "      <td>63.0</td>\n",
       "      <td>97.199997</td>\n",
       "      <td>79</td>\n",
       "      <td>80b98665-5fe0-462c-a6cd-c9b9943abc37.parquet</td>\n",
       "    </tr>\n",
       "  </tbody>\n",
       "</table>\n",
       "<p>477695 rows × 7 columns</p>\n",
       "</div>"
      ],
      "text/plain": [
       "SubLabel                           BIS  CO₂fe    FC  PNIm       SpO₂  rec_id  \\\n",
       "TimeStamp                                                                      \n",
       "2022-03-11 13:15:01.917000+00:00  54.0   24.0  80.0  84.0  98.699997       0   \n",
       "2022-03-11 13:15:02.941000+00:00  54.0   21.0  81.0  84.0  98.599998       0   \n",
       "2022-03-11 13:15:03.965000+00:00  56.0   21.0  81.0  84.0  98.599998       0   \n",
       "2022-03-11 13:15:04.989000+00:00  56.0   21.0  81.0  84.0  98.599998       0   \n",
       "2022-03-11 13:15:06.013000+00:00  56.0   21.0  81.0  84.0  98.500000       0   \n",
       "...                                ...    ...   ...   ...        ...     ...   \n",
       "2022-11-01 06:59:55.442000+00:00  40.0   34.0  46.0  63.0  97.199997      79   \n",
       "2022-11-01 06:59:56.466000+00:00  42.0   34.0  47.0  63.0  97.199997      79   \n",
       "2022-11-01 06:59:57.490000+00:00  42.0   34.0  48.0  63.0  97.199997      79   \n",
       "2022-11-01 06:59:58.514000+00:00  43.0   34.0  48.0  63.0  97.199997      79   \n",
       "2022-11-01 06:59:59.538000+00:00  41.0   34.0  48.0  63.0  97.199997      79   \n",
       "\n",
       "SubLabel                                                         scope_session  \n",
       "TimeStamp                                                                       \n",
       "2022-03-11 13:15:01.917000+00:00  cd377160-f477-4f4e-963f-3b6441fa6a8a.parquet  \n",
       "2022-03-11 13:15:02.941000+00:00  cd377160-f477-4f4e-963f-3b6441fa6a8a.parquet  \n",
       "2022-03-11 13:15:03.965000+00:00  cd377160-f477-4f4e-963f-3b6441fa6a8a.parquet  \n",
       "2022-03-11 13:15:04.989000+00:00  cd377160-f477-4f4e-963f-3b6441fa6a8a.parquet  \n",
       "2022-03-11 13:15:06.013000+00:00  cd377160-f477-4f4e-963f-3b6441fa6a8a.parquet  \n",
       "...                                                                        ...  \n",
       "2022-11-01 06:59:55.442000+00:00  80b98665-5fe0-462c-a6cd-c9b9943abc37.parquet  \n",
       "2022-11-01 06:59:56.466000+00:00  80b98665-5fe0-462c-a6cd-c9b9943abc37.parquet  \n",
       "2022-11-01 06:59:57.490000+00:00  80b98665-5fe0-462c-a6cd-c9b9943abc37.parquet  \n",
       "2022-11-01 06:59:58.514000+00:00  80b98665-5fe0-462c-a6cd-c9b9943abc37.parquet  \n",
       "2022-11-01 06:59:59.538000+00:00  80b98665-5fe0-462c-a6cd-c9b9943abc37.parquet  \n",
       "\n",
       "[477695 rows x 7 columns]"
      ]
     },
     "execution_count": 3,
     "metadata": {},
     "output_type": "execute_result"
    }
   ],
   "source": [
    "df_train = utils.concatenate_surgeries(path_train, utils.FILTERED_DATA_DIR)\n",
    "df_test = utils.concatenate_surgeries(path_test, utils.FILTERED_DATA_DIR)\n",
    "\n",
    "df_train"
   ]
  },
  {
   "cell_type": "markdown",
   "metadata": {},
   "source": [
    "#### As you can see, the training DataFrame contains the BIS, all 4 signals (the function already dropped all rows containing at least 1 NaN value), and the recording_id of the surgery (it is really useful to identify which surgery belongs which signals). Contains also the scope_session id, could be useful to identify specific recording and then look at their corresponding plot..."
   ]
  },
  {
   "cell_type": "markdown",
   "metadata": {},
   "source": [
    "## 3 - Create X_train and y_train"
   ]
  },
  {
   "cell_type": "code",
   "execution_count": 4,
   "metadata": {},
   "outputs": [
    {
     "name": "stdout",
     "output_type": "stream",
     "text": [
      "X_train\n",
      "SubLabel                          CO₂fe    FC  PNIm       SpO₂\n",
      "TimeStamp                                                     \n",
      "2022-03-11 13:15:01.917000+00:00   24.0  80.0  84.0  98.699997\n",
      "2022-03-11 13:15:02.941000+00:00   21.0  81.0  84.0  98.599998\n",
      "2022-03-11 13:15:03.965000+00:00   21.0  81.0  84.0  98.599998\n",
      "2022-03-11 13:15:04.989000+00:00   21.0  81.0  84.0  98.599998\n",
      "2022-03-11 13:15:06.013000+00:00   21.0  81.0  84.0  98.500000\n",
      "\n",
      "y_train\n",
      "TimeStamp\n",
      "2022-03-11 13:15:01.917000+00:00    54.0\n",
      "2022-03-11 13:15:02.941000+00:00    54.0\n",
      "2022-03-11 13:15:03.965000+00:00    56.0\n",
      "2022-03-11 13:15:04.989000+00:00    56.0\n",
      "2022-03-11 13:15:06.013000+00:00    56.0\n",
      "Name: BIS, dtype: float32\n"
     ]
    }
   ],
   "source": [
    "X_train, y_train = df_train[[\"CO₂fe\", \"FC\", \"PNIm\", \"SpO₂\"]], df_train[\"BIS\"]\n",
    "X_test, y_test = df_test[[\"CO₂fe\", \"FC\", \"PNIm\", \"SpO₂\"]], df_test[\"BIS\"]\n",
    "\n",
    "print(\"X_train\")\n",
    "print(X_train.head())\n",
    "\n",
    "print(\"\\ny_train\")\n",
    "print(y_train.head())"
   ]
  },
  {
   "cell_type": "markdown",
   "metadata": {},
   "source": [
    "#### At this point you can use that to train your regression model, maybe apply some scaling, individual preprocessing, etc."
   ]
  }
 ],
 "metadata": {
  "kernelspec": {
   "display_name": ".venv",
   "language": "python",
   "name": "python3"
  },
  "language_info": {
   "codemirror_mode": {
    "name": "ipython",
    "version": 3
   },
   "file_extension": ".py",
   "mimetype": "text/x-python",
   "name": "python",
   "nbconvert_exporter": "python",
   "pygments_lexer": "ipython3",
   "version": "3.12.1"
  }
 },
 "nbformat": 4,
 "nbformat_minor": 2
}
